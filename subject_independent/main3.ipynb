{
 "cells": [
  {
   "cell_type": "code",
   "execution_count": 34,
   "metadata": {},
   "outputs": [],
   "source": [
    "import mne\n",
    "import numpy as np"
   ]
  },
  {
   "cell_type": "code",
   "execution_count": null,
   "metadata": {},
   "outputs": [],
   "source": [
    "import pandas as pd\n",
    "participants = pd.read_csv('../Dataset/participants.tsv', sep='\\t')\n",
    "participants.head() # To inspect the first few rows"
   ]
  },
  {
   "cell_type": "code",
   "execution_count": null,
   "metadata": {},
   "outputs": [],
   "source": [
    "participants.columns"
   ]
  },
  {
   "cell_type": "code",
   "execution_count": null,
   "metadata": {},
   "outputs": [],
   "source": [
    "import os\n",
    "\n",
    "# List of subject IDs (assuming you have filenames like sub-pd01, sub-hc01, etc.)\n",
    "subjects = participants[\"participant_id\"] # List all subjects here\n",
    "subjects=subjects.to_list()\n",
    "sessions = ['ses-off', 'ses-on']  # for Parkinson's patients, if available\n",
    "\n",
    "print(subjects)"
   ]
  },
  {
   "cell_type": "code",
   "execution_count": null,
   "metadata": {},
   "outputs": [],
   "source": [
    "import os\n",
    "\n",
    "# List of subject IDs (assuming you have filenames like sub-pd01, sub-hc01, etc.)\n",
    "subjects = participants.participant_id # List all subjects here\n",
    "subjects=subjects.to_list()\n",
    "sessions = ['ses-off', 'ses-on']  # for Parkinson's patients, if available\n",
    "\n",
    "print(subjects)"
   ]
  },
  {
   "cell_type": "code",
   "execution_count": null,
   "metadata": {},
   "outputs": [],
   "source": [
    "subject_files_pd_on=[]\n",
    "subject_files_pd_off=[]\n",
    "subject_files_hc=[]\n",
    "\n",
    "for subject in subjects:\n",
    "    if 'pd' in subject:\n",
    "        for session in sessions:\n",
    "            file_path = f\"../Dataset/{subject}/{session}/eeg/{subject}_{session}_task-rest_eeg.bdf\"\n",
    "            if session == 'ses-on':\n",
    "                subject_files_pd_on.append(file_path)\n",
    "            else:\n",
    "                subject_files_pd_off.append(file_path)\n",
    "    elif 'hc' in subject:\n",
    "        session = 'ses-hc'\n",
    "        file_path = f\"../Dataset/{subject}/{session}/eeg/{subject}_{session}_task-rest_eeg.bdf\"\n",
    "        subject_files_hc.append(file_path)\n",
    "\n",
    "print(subject_files_pd_on)\n",
    "print(subject_files_pd_off)\n",
    "print(subject_files_hc)"
   ]
  },
  {
   "cell_type": "code",
   "execution_count": 40,
   "metadata": {},
   "outputs": [],
   "source": [
    "def set_montage(raw_data):\n",
    "    montage = mne.channels.make_standard_montage('biosemi32')\n",
    "    raw_data.set_montage(montage, on_missing='warn')\n",
    "    return raw_data"
   ]
  },
  {
   "cell_type": "code",
   "execution_count": 41,
   "metadata": {},
   "outputs": [],
   "source": [
    "def bandpass_filter(raw_data, l_freq=0.5, h_freq=50.0):\n",
    "    raw_data.filter(l_freq=l_freq, h_freq=h_freq)\n",
    "    return raw_data"
   ]
  },
  {
   "cell_type": "code",
   "execution_count": 42,
   "metadata": {},
   "outputs": [],
   "source": [
    "# Use T7 or T8 as proxy ECG channels (experimental approach)\n",
    "def find_ecg_via_temporal_channels(ica, raw_data):\n",
    "    # Experimentally identify ECG-like artifacts using temporal channels\n",
    "    ecg_indices, ecg_scores = ica.find_bads_ecg(raw_data, ch_name='T7')\n",
    "    ica.exclude += ecg_indices  # Exclude identified ECG-like components\n",
    "    return ica"
   ]
  },
  {
   "cell_type": "code",
   "execution_count": 43,
   "metadata": {},
   "outputs": [],
   "source": [
    "from mne.preprocessing import ICA\n",
    "def apply_ica(raw_data, n_components=32):\n",
    "    ica = ICA(n_components=n_components, random_state=97, max_iter=\"auto\")\n",
    "    ica.fit(raw_data)\n",
    "    \n",
    "    # Detect artifacts\n",
    "    eog_indices, _ = ica.find_bads_eog(raw_data,ch_name=['Fp2', 'F8'],threshold=1.96)  # Detect eye blink components\n",
    "    \n",
    "    # Mark components for removal\n",
    "    ica.exclude = eog_indices\n",
    "    # Experimental ECG detection\n",
    "    ica = find_ecg_via_temporal_channels(ica, raw_data)\n",
    "    \n",
    "    # Apply ICA to remove artifacts\n",
    "    raw_data = ica.apply(raw_data)\n",
    "    return raw_data"
   ]
  },
  {
   "cell_type": "code",
   "execution_count": 44,
   "metadata": {},
   "outputs": [],
   "source": [
    "def segment_data(raw_data, duration=1.0):\n",
    "    events = mne.make_fixed_length_events(raw_data, duration=duration)\n",
    "    epochs = mne.Epochs(raw_data, events, tmin=0, tmax=duration, baseline=None, preload=True)\n",
    "    eeg_data = epochs.get_data()  # Shape should be (180, 32, 512) if 3 mins, 32 channels, 512 samples/s\n",
    "    return eeg_data"
   ]
  },
  {
   "cell_type": "code",
   "execution_count": 45,
   "metadata": {},
   "outputs": [],
   "source": [
    "# Define frequency bands\n",
    "freq_bands = {\n",
    "    \"delta\": (1, 4),\n",
    "    \"theta\": (4, 8),\n",
    "    \"alpha\": (8, 12),\n",
    "    \"beta\": (13, 30),\n",
    "    \"gamma\": (30, 48)\n",
    "}"
   ]
  },
  {
   "cell_type": "code",
   "execution_count": 46,
   "metadata": {},
   "outputs": [],
   "source": [
    "\n",
    "def compute_psd(eeg_data, sfreq):\n",
    "    psd_features = {}\n",
    "    for band, (low, high) in freq_bands.items():\n",
    "        psd_band, _ = mne.time_frequency.psd_array_multitaper(\n",
    "            eeg_data, sfreq=sfreq, fmin=low, fmax=high, adaptive=True, normalization='full'\n",
    "        )\n",
    "        psd_features[band] = psd_band.mean(axis=2)  # Average PSD across time\n",
    "    return psd_features"
   ]
  },
  {
   "cell_type": "code",
   "execution_count": 47,
   "metadata": {},
   "outputs": [],
   "source": [
    "# Define a function to process a single subject and extract PSD features\n",
    "def process_subject(raw_data, sfreq):\n",
    "    # Apply bandpass filtering and artifact removal here as per previous preprocessing steps\n",
    "    set_montage(raw_data)\n",
    "    raw_filtered = bandpass_filter(raw_data)  # Assuming bandpass_filter function is defined\n",
    "    raw_filtered = apply_ica(raw_filtered)\n",
    "    epochs = segment_data(raw_filtered)  # Assuming segment_data function is defined to get (180, 32, 512)\n",
    "    eeg_data = epochs[:, :, :512]  # Shape (180, 32, 512)\n",
    "\n",
    "    # Compute PSD features for this subject\n",
    "    psd_features = compute_psd(eeg_data, sfreq)  # Dictionary with PSD for each frequency band\n",
    "    return psd_features"
   ]
  },
  {
   "cell_type": "code",
   "execution_count": 48,
   "metadata": {},
   "outputs": [],
   "source": [
    "all_psd_features = {'delta': {'data':[],'label':[]}, 'theta': {'data':[],'label':[]}, 'alpha': {'data':[],'label':[]}, \n",
    "                        'beta': {'data':[],'label':[]}, 'gamma': {'data':[],'label':[]} }\n",
    "\n",
    "# Loop over all subjects and store PSD features\n",
    "def collect_psd_features(subject_files, sfreq,label):\n",
    "\n",
    "    for subject_file in subject_files:\n",
    "        # Load subject's data\n",
    "        raw_data = mne.io.read_raw_bdf(subject_file, preload=True)\n",
    "        raw_data.crop(tmax=180.)  # Keep first 180 seconds\n",
    "        raw_data = raw_data.drop_channels(['EXG1', 'EXG2', 'EXG3', 'EXG4', 'EXG5', 'EXG6', 'EXG7', 'EXG8', 'Status'])\n",
    "\n",
    "        # Process subject data to extract PSD features\n",
    "        psd_features = process_subject(raw_data, sfreq)  # Returns {alpha:[180x32], delta:[180x32], ...}\n",
    "        print(\"Shape of psd_features[delta] in each subject:\", np.asarray(psd_features['delta']).shape)\n",
    "\n",
    "        # Append features and corresponding labels for each frequency band\n",
    "        for band in all_psd_features.keys():\n",
    "            all_psd_features[band]['data'].append(psd_features[band])  # Store 2D matrix (180x32)\n",
    "            all_psd_features[band]['label'].append(label)  # Store corresponding integer label\n",
    "\n",
    "    return all_psd_features\n",
    "\n",
    "# all_psd_features = {\n",
    "#     'alpha': {\n",
    "#         'data': [array(180x32), array(180x32)],  # 2 subjects' data\n",
    "#         'label': [1, 1]  # 2 corresponding labels\n",
    "#     },\n",
    "#     'delta': {\n",
    "#         'data': [array(180x32), array(180x32)],\n",
    "#         'label': [1, 1]\n",
    "#     },\n",
    "#     ...\n",
    "# }\n",
    "\n"
   ]
  },
  {
   "cell_type": "markdown",
   "metadata": {},
   "source": [
    "Each subject’s PSD feature for the δ band should have a shape of \n",
    "180\n",
    "×\n",
    "32\n",
    "180×32 (180 time samples, 32 channels)."
   ]
  },
  {
   "cell_type": "code",
   "execution_count": 49,
   "metadata": {},
   "outputs": [],
   "source": [
    "# Collect PSD features for each group\n",
    "sfreq = 512  # Sample frequency as given"
   ]
  },
  {
   "cell_type": "markdown",
   "metadata": {},
   "source": [
    "For PD_on or PD_off"
   ]
  },
  {
   "cell_type": "code",
   "execution_count": null,
   "metadata": {},
   "outputs": [],
   "source": [
    "# psd_features_pd = collect_psd_features(subject_files_pd_on, sfreq,1)\n",
    "psd_features_pd = collect_psd_features(subject_files_pd_off, sfreq,1)"
   ]
  },
  {
   "cell_type": "code",
   "execution_count": null,
   "metadata": {},
   "outputs": [],
   "source": [
    "print(len(all_psd_features[\"alpha\"]['data']))\n",
    "print(len(all_psd_features[\"alpha\"]['data'][0]))\n",
    "print(len(all_psd_features[\"alpha\"]['data'][0][0]))\n",
    "print(all_psd_features[\"alpha\"]['label'])"
   ]
  },
  {
   "cell_type": "markdown",
   "metadata": {},
   "source": [
    "For HC"
   ]
  },
  {
   "cell_type": "code",
   "execution_count": null,
   "metadata": {},
   "outputs": [],
   "source": [
    "psd_features_hc = collect_psd_features(subject_files_hc, sfreq,0)"
   ]
  },
  {
   "cell_type": "code",
   "execution_count": null,
   "metadata": {},
   "outputs": [],
   "source": [
    "print(len(all_psd_features[\"alpha\"]['data']))\n",
    "print(len(all_psd_features[\"alpha\"]['data'][0]))\n",
    "print(len(all_psd_features[\"alpha\"]['data'][0][0]))\n",
    "print(all_psd_features[\"alpha\"]['label'])"
   ]
  },
  {
   "cell_type": "code",
   "execution_count": 54,
   "metadata": {},
   "outputs": [],
   "source": [
    "# all_psd_features = {\n",
    "#     'alpha': {\n",
    "#         'data': [array(180x32), array(180x32),.....],  # 31 subjects' data (PD_ON vs HC)\n",
    "#         'label': [1, 1, ...., 0]  # 31 corresponding labels\n",
    "#     },\n",
    "#     'delta': {\n",
    "#         'data': [array(180x32), array(180x32), .....],\n",
    "#         'label': [1, 1, ....]\n",
    "#     },\n",
    "#     ...\n",
    "# }\n"
   ]
  },
  {
   "cell_type": "code",
   "execution_count": 55,
   "metadata": {},
   "outputs": [],
   "source": [
    "import pickle\n",
    "\n",
    "def save_psd_features(all_psd_features, output_dir=\"new_data/pd_off vs hc\"):\n",
    "\n",
    "    import os\n",
    "\n",
    "    # Create directory if it does not exist\n",
    "    os.makedirs(output_dir, exist_ok=True)\n",
    "\n",
    "    for band, band_data in all_psd_features.items():\n",
    "        file_path = os.path.join(output_dir, f\"{band}.pkl\")\n",
    "        \n",
    "        with open(file_path, 'wb') as f:\n",
    "            pickle.dump(band_data, f)\n",
    "        \n",
    "        print(f\"Saved {band} features to {file_path}\")\n",
    "\n",
    "# alpha.pkl{\n",
    "#     \"data\": [array(180x32), array(180x32), ...],  # 31 subjects' data\n",
    "#     \"label\": [1, 1, ..., 0]  # 31 corresponding labels\n",
    "# }\n"
   ]
  },
  {
   "cell_type": "code",
   "execution_count": null,
   "metadata": {},
   "outputs": [],
   "source": [
    "# Example usage\n",
    "save_psd_features(all_psd_features)"
   ]
  },
  {
   "cell_type": "markdown",
   "metadata": {},
   "source": [
    "<h1>Loading .pkl</h1>"
   ]
  },
  {
   "cell_type": "code",
   "execution_count": null,
   "metadata": {},
   "outputs": [],
   "source": [
    "def load_psd_features(band_name, input_dir=\"new_data/pd_off vs hc\"):\n",
    "\n",
    "    file_path = os.path.join(input_dir, f\"{band_name}.pkl\")\n",
    "\n",
    "    with open(file_path, 'rb') as f:\n",
    "        band_data = pickle.load(f)\n",
    "\n",
    "    return band_data\n",
    "\n",
    "# Example usage\n",
    "alpha_data = load_psd_features(\"delta\")\n",
    "print(len(alpha_data[\"data\"]))  # Should print 31\n",
    "print(alpha_data[\"data\"][0].shape)  # Should print (180, 32)\n",
    "print(alpha_data[\"label\"])  # Should print [1, 1, ..., 0]\n"
   ]
  }
 ],
 "metadata": {
  "kernelspec": {
   "display_name": "tf",
   "language": "python",
   "name": "python3"
  },
  "language_info": {
   "codemirror_mode": {
    "name": "ipython",
    "version": 3
   },
   "file_extension": ".py",
   "mimetype": "text/x-python",
   "name": "python",
   "nbconvert_exporter": "python",
   "pygments_lexer": "ipython3",
   "version": "3.9.21"
  }
 },
 "nbformat": 4,
 "nbformat_minor": 2
}
