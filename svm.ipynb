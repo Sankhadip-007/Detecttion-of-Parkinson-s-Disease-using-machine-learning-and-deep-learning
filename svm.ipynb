{
 "cells": [
  {
   "cell_type": "code",
   "execution_count": 1,
   "metadata": {},
   "outputs": [],
   "source": [
    "import pickle\n",
    "import numpy as np\n",
    "from sklearn.preprocessing import StandardScaler\n",
    "from sklearn.model_selection import cross_val_score"
   ]
  },
  {
   "cell_type": "code",
   "execution_count": 2,
   "metadata": {},
   "outputs": [],
   "source": [
    "from sklearn.model_selection import train_test_split\n",
    "from sklearn.svm import SVC\n",
    "from sklearn.metrics import classification_report, accuracy_score"
   ]
  },
  {
   "cell_type": "code",
   "execution_count": 3,
   "metadata": {},
   "outputs": [],
   "source": [
    "# Load using pickle\n",
    "with open('IowaDataset/processed/theta.pkl', 'rb') as f:\n",
    "    loaded_data = pickle.load(f)\n",
    "    data = loaded_data['data']\n",
    "    labels = loaded_data['labels']"
   ]
  },
  {
   "cell_type": "code",
   "execution_count": 4,
   "metadata": {},
   "outputs": [
    {
     "data": {
      "text/plain": [
       "(3360, 29)"
      ]
     },
     "execution_count": 4,
     "metadata": {},
     "output_type": "execute_result"
    }
   ],
   "source": [
    "data.shape"
   ]
  },
  {
   "cell_type": "code",
   "execution_count": 163,
   "metadata": {},
   "outputs": [],
   "source": [
    "import matplotlib.pyplot as plt\n",
    "from sklearn.metrics import roc_curve, auc"
   ]
  },
  {
   "cell_type": "code",
   "execution_count": 8,
   "metadata": {},
   "outputs": [],
   "source": [
    "# Split data into train and test sets\n",
    "def train_test_svm(data, labels, test_size=0.1, random_state=101):\n",
    "    X_train, X_test, y_train, y_test = train_test_split(data, labels, test_size=test_size, random_state=random_state)\n",
    "    print(len(X_train))\n",
    "    print(len(X_test))\n",
    "\n",
    "    # Scaling\n",
    "    scaler = StandardScaler()\n",
    "    X_train_scaled = scaler.fit_transform(X_train)\n",
    "    X_test_scaled = scaler.transform(X_test)\n",
    "\n",
    "    # Initialize and train the SVM model\n",
    "    svm_model = SVC(kernel='linear',class_weight='balanced',probability=True)\n",
    "    svm_model.fit(X_train_scaled, y_train)\n",
    "    \n",
    "    # Make predictions\n",
    "    y_pred = svm_model.predict(X_test_scaled)\n",
    "\n",
    "    # Predict probabilities for the test set\n",
    "    y_prob = svm_model.predict_proba(X_test)[:, 1]  # Probability of the positive class\n",
    "    # Calculate the ROC curve and AUC\n",
    "    fpr, tpr, _ = roc_curve(y_test, y_prob)\n",
    "\n",
    "\n",
    "    # Output performance metrics\n",
    "    print(\"Accuracy:\", accuracy_score(y_test, y_pred))\n",
    "    print(\"Classification Report:\\n\", classification_report(y_test, y_pred))\n",
    "\n",
    "    print(\"Predictions:\", np.unique(y_pred, return_counts=True))\n",
    "\n",
    "    scores = cross_val_score(svm_model, X_train_scaled, y_train, cv=5, scoring='f1')\n",
    "    print(\"Cross-validation F1 scores for class 1:\", scores)\n",
    "\n",
    "    return tpr,fpr\n"
   ]
  },
  {
   "cell_type": "code",
   "execution_count": 9,
   "metadata": {},
   "outputs": [
    {
     "name": "stdout",
     "output_type": "stream",
     "text": [
      "3024\n",
      "336\n",
      "Accuracy: 0.8273809523809523\n",
      "Classification Report:\n",
      "               precision    recall  f1-score   support\n",
      "\n",
      "           0       0.78      0.93      0.85       173\n",
      "           1       0.91      0.72      0.80       163\n",
      "\n",
      "    accuracy                           0.83       336\n",
      "   macro avg       0.84      0.82      0.82       336\n",
      "weighted avg       0.84      0.83      0.83       336\n",
      "\n",
      "Predictions: (array([0, 1]), array([207, 129], dtype=int64))\n",
      "Cross-validation F1 scores for class 1: [0.80427046 0.78467153 0.81978799 0.77757685 0.80071813]\n"
     ]
    }
   ],
   "source": [
    "# Train and evaluate SVM model\n",
    "tpr,fpr=train_test_svm(data, labels) # 0.8440860215053764"
   ]
  },
  {
   "cell_type": "code",
   "execution_count": 5,
   "metadata": {},
   "outputs": [],
   "source": [
    "from sklearn.model_selection import StratifiedKFold\n",
    "from sklearn.metrics import accuracy_score, classification_report, roc_curve, confusion_matrix\n",
    "from sklearn.preprocessing import StandardScaler"
   ]
  },
  {
   "cell_type": "code",
   "execution_count": 6,
   "metadata": {},
   "outputs": [],
   "source": [
    "def svm_kfold(data, labels, k=5):\n",
    "    skf = StratifiedKFold(n_splits=k, shuffle=True, random_state=101)\n",
    "    \n",
    "    accuracies = []\n",
    "    sensitivities = []\n",
    "    specificities = []\n",
    "    \n",
    "    fold = 1\n",
    "    for train_index, test_index in skf.split(data, labels):\n",
    "        print(f\"Fold {fold}\")\n",
    "        fold += 1\n",
    "\n",
    "        # Split the data into train and test\n",
    "        X_train, X_test = data[train_index], data[test_index]\n",
    "        y_train, y_test = labels[train_index], labels[test_index]\n",
    "\n",
    "        # Scaling\n",
    "        scaler = StandardScaler()\n",
    "        X_train_scaled = scaler.fit_transform(X_train)\n",
    "        X_test_scaled = scaler.transform(X_test)\n",
    "\n",
    "        # Initialize and train the SVM model\n",
    "        svm_model = SVC(kernel='linear', class_weight='balanced', probability=True)\n",
    "        svm_model.fit(X_train_scaled, y_train)\n",
    "        \n",
    "        # Make predictions\n",
    "        y_pred = svm_model.predict(X_test_scaled)\n",
    "\n",
    "        # Calculate accuracy\n",
    "        acc = accuracy_score(y_test, y_pred)\n",
    "        accuracies.append(acc)\n",
    "        \n",
    "        # Confusion matrix to calculate sensitivity and specificity\n",
    "        tn, fp, fn, tp = confusion_matrix(y_test, y_pred).ravel()\n",
    "        sensitivity = tp / (tp + fn)\n",
    "        specificity = tn / (tn + fp)\n",
    "\n",
    "        sensitivities.append(sensitivity)\n",
    "        specificities.append(specificity)\n",
    "\n",
    "        # Output for the current fold\n",
    "        print(f\"Accuracy: {acc:.4f}\")\n",
    "        print(f\"Sensitivity (Recall): {sensitivity:.4f}\")\n",
    "        print(f\"Specificity: {specificity:.4f}\")\n",
    "        print()\n",
    "\n",
    "    # Output overall metrics\n",
    "    print(\"=== Overall Metrics ===\")\n",
    "    print(f\"Mean Accuracy: {np.mean(accuracies):.4f}\")\n",
    "    print(f\"Mean Sensitivity: {np.mean(sensitivities):.4f}\")\n",
    "    print(f\"Mean Specificity: {np.mean(specificities):.4f}\")\n",
    "\n",
    "    return np.mean(accuracies), np.mean(sensitivities), np.mean(specificities)"
   ]
  },
  {
   "cell_type": "code",
   "execution_count": 7,
   "metadata": {},
   "outputs": [
    {
     "name": "stdout",
     "output_type": "stream",
     "text": [
      "Fold 1\n",
      "Accuracy: 0.8348\n",
      "Sensitivity (Recall): 0.7649\n",
      "Specificity: 0.9048\n",
      "\n",
      "Fold 2\n",
      "Accuracy: 0.8021\n",
      "Sensitivity (Recall): 0.7232\n",
      "Specificity: 0.8810\n",
      "\n",
      "Fold 3\n",
      "Accuracy: 0.8199\n",
      "Sensitivity (Recall): 0.7530\n",
      "Specificity: 0.8869\n",
      "\n",
      "Fold 4\n",
      "Accuracy: 0.8199\n",
      "Sensitivity (Recall): 0.7917\n",
      "Specificity: 0.8482\n",
      "\n",
      "Fold 5\n",
      "Accuracy: 0.8110\n",
      "Sensitivity (Recall): 0.7292\n",
      "Specificity: 0.8929\n",
      "\n",
      "=== Overall Metrics ===\n",
      "Mean Accuracy: 0.8176\n",
      "Mean Sensitivity: 0.7524\n",
      "Mean Specificity: 0.8827\n"
     ]
    },
    {
     "data": {
      "text/plain": [
       "(0.8175595238095239, 0.7523809523809524, 0.8827380952380952)"
      ]
     },
     "execution_count": 7,
     "metadata": {},
     "output_type": "execute_result"
    }
   ],
   "source": [
    "svm_kfold(data,labels)"
   ]
  },
  {
   "cell_type": "code",
   "execution_count": 169,
   "metadata": {},
   "outputs": [
    {
     "ename": "NameError",
     "evalue": "name 'fpr' is not defined",
     "output_type": "error",
     "traceback": [
      "\u001b[1;31m---------------------------------------------------------------------------\u001b[0m",
      "\u001b[1;31mNameError\u001b[0m                                 Traceback (most recent call last)",
      "Cell \u001b[1;32mIn[169], line 1\u001b[0m\n\u001b[1;32m----> 1\u001b[0m roc_auc \u001b[38;5;241m=\u001b[39m auc(\u001b[43mfpr\u001b[49m, tpr)\n\u001b[0;32m      3\u001b[0m \u001b[38;5;66;03m# Plot the ROC curve\u001b[39;00m\n\u001b[0;32m      4\u001b[0m plt\u001b[38;5;241m.\u001b[39mfigure()\n",
      "\u001b[1;31mNameError\u001b[0m: name 'fpr' is not defined"
     ]
    }
   ],
   "source": [
    "roc_auc = auc(fpr, tpr)\n",
    "\n",
    "# Plot the ROC curve\n",
    "plt.figure()\n",
    "lw = 2\n",
    "plt.plot(fpr, tpr, color='darkorange', lw=lw, label='ROC curve (area = %0.2f)' % roc_auc)\n",
    "plt.plot([0, 1], [0, 1], color='navy', lw=lw, linestyle='--')\n",
    "plt.xlim([0.0, 1.0])\n",
    "plt.ylim([0.0, 1.05])\n",
    "plt.xlabel('False Positive Rate')\n",
    "plt.ylabel('True Positive Rate')\n",
    "plt.title('Receiver Operating Characteristic (ROC) Curve')\n",
    "plt.legend(loc=\"lower right\")\n",
    "plt.show()"
   ]
  }
 ],
 "metadata": {
  "kernelspec": {
   "display_name": "tf",
   "language": "python",
   "name": "python3"
  },
  "language_info": {
   "codemirror_mode": {
    "name": "ipython",
    "version": 3
   },
   "file_extension": ".py",
   "mimetype": "text/x-python",
   "name": "python",
   "nbconvert_exporter": "python",
   "pygments_lexer": "ipython3",
   "version": "3.9.21"
  }
 },
 "nbformat": 4,
 "nbformat_minor": 2
}
