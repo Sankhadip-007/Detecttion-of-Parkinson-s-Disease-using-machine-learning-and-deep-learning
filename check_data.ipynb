{
 "cells": [
  {
   "cell_type": "code",
   "execution_count": 1,
   "metadata": {},
   "outputs": [],
   "source": [
    "import pandas as pd\n",
    "import numpy as np\n",
    "import pickle"
   ]
  },
  {
   "cell_type": "code",
   "execution_count": 2,
   "metadata": {},
   "outputs": [],
   "source": [
    "# Load using pickle\n",
    "with open('new_data/pd_on vs hc/gamma.pkl', 'rb') as f:\n",
    "    loaded_data = pickle.load(f)\n",
    "    data1 = loaded_data['data']\n",
    "    labels1 = loaded_data['labels']"
   ]
  },
  {
   "cell_type": "code",
   "execution_count": 6,
   "metadata": {},
   "outputs": [
    {
     "data": {
      "text/plain": [
       "(5580, 32)"
      ]
     },
     "execution_count": 6,
     "metadata": {},
     "output_type": "execute_result"
    }
   ],
   "source": [
    "data1.shape"
   ]
  },
  {
   "cell_type": "code",
   "execution_count": 31,
   "metadata": {},
   "outputs": [
    {
     "name": "stdout",
     "output_type": "stream",
     "text": [
      "Label distribution: {0: 2880, 1: 2700}\n"
     ]
    }
   ],
   "source": [
    "unique, counts = np.unique(labels1, return_counts=True)\n",
    "print(\"Label distribution:\", dict(zip(unique, counts)))\n"
   ]
  },
  {
   "cell_type": "code",
   "execution_count": 18,
   "metadata": {},
   "outputs": [],
   "source": [
    "# Load using pickle\n",
    "with open('new_data/pd_on vs hc/gamma.pkl', 'rb') as f:\n",
    "    loaded_data = pickle.load(f)\n",
    "    data2 = loaded_data['data']\n",
    "    labels2 = loaded_data['labels']"
   ]
  },
  {
   "cell_type": "code",
   "execution_count": 26,
   "metadata": {},
   "outputs": [
    {
     "data": {
      "text/plain": [
       "array([8.88418152e-14, 6.52899968e-14, 8.72181828e-14, 6.24830531e-14,\n",
       "       3.48046319e-14, 3.56600413e-13, 2.49691025e-13, 3.68788128e-14,\n",
       "       1.44271734e-14, 1.69536751e-13, 3.12747806e-13, 9.54369776e-14,\n",
       "       5.96480711e-14, 8.19868748e-14, 2.02490549e-13, 2.25351031e-13,\n",
       "       2.48755297e-13, 1.23792902e-13, 1.13899748e-13, 2.17986946e-13,\n",
       "       2.55875169e-13, 7.46522230e-14, 1.17256367e-13, 8.36077198e-14,\n",
       "       9.62478558e-14, 4.26094347e-14, 8.10835297e-14, 9.87422420e-14,\n",
       "       1.38217643e-13, 2.18172077e-13, 5.15997233e-14, 2.72585065e-14])"
      ]
     },
     "execution_count": 26,
     "metadata": {},
     "output_type": "execute_result"
    }
   ],
   "source": [
    "data2[0]"
   ]
  },
  {
   "cell_type": "code",
   "execution_count": 25,
   "metadata": {},
   "outputs": [
    {
     "name": "stdout",
     "output_type": "stream",
     "text": [
      "1\n"
     ]
    }
   ],
   "source": []
  }
 ],
 "metadata": {
  "kernelspec": {
   "display_name": "tf",
   "language": "python",
   "name": "python3"
  },
  "language_info": {
   "codemirror_mode": {
    "name": "ipython",
    "version": 3
   },
   "file_extension": ".py",
   "mimetype": "text/x-python",
   "name": "python",
   "nbconvert_exporter": "python",
   "pygments_lexer": "ipython3",
   "version": "3.9.18"
  }
 },
 "nbformat": 4,
 "nbformat_minor": 2
}
